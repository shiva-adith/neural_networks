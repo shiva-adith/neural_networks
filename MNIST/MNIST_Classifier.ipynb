{
 "cells": [
  {
   "cell_type": "code",
   "execution_count": 2,
   "metadata": {},
   "outputs": [
    {
     "name": "stdout",
     "output_type": "stream",
     "text": [
      "Collecting helper\n",
      "  Downloading helper-2.4.2-py2.py3-none-any.whl (21 kB)\n",
      "Collecting pyyaml\n",
      "  Downloading PyYAML-5.3.1-cp38-cp38-win_amd64.whl (219 kB)\n",
      "Installing collected packages: pyyaml, helper\n",
      "Successfully installed helper-2.4.2 pyyaml-5.3.1\n"
     ]
    }
   ],
   "source": [
    "!pip install helper"
   ]
  },
  {
   "cell_type": "code",
   "execution_count": 3,
   "metadata": {},
   "outputs": [],
   "source": [
    "import torch\n",
    "import numpy as np\n",
    "import matplotlib.pyplot as plt\n",
    "from torchvision import datasets, transforms\n",
    "import helper\n",
    "%matplotlib inline\n",
    "%config InlineBackend.figure_format = 'retina'"
   ]
  },
  {
   "cell_type": "code",
   "execution_count": 5,
   "metadata": {},
   "outputs": [
    {
     "name": "stdout",
     "output_type": "stream",
     "text": [
      "Downloading http://yann.lecun.com/exdb/mnist/train-images-idx3-ubyte.gz to ../datasets/MNIST\\raw\\train-images-idx3-ubyte.gz\n"
     ]
    },
    {
     "name": "stderr",
     "output_type": "stream",
     "text": [
      "100.1%"
     ]
    },
    {
     "name": "stdout",
     "output_type": "stream",
     "text": [
      "Extracting ../datasets/MNIST\\raw\\train-images-idx3-ubyte.gz to ../datasets/MNIST\\raw\n",
      "Downloading http://yann.lecun.com/exdb/mnist/train-labels-idx1-ubyte.gz to ../datasets/MNIST\\raw\\train-labels-idx1-ubyte.gz\n"
     ]
    },
    {
     "name": "stderr",
     "output_type": "stream",
     "text": [
      "113.5%"
     ]
    },
    {
     "name": "stdout",
     "output_type": "stream",
     "text": [
      "Extracting ../datasets/MNIST\\raw\\train-labels-idx1-ubyte.gz to ../datasets/MNIST\\raw\n",
      "Downloading http://yann.lecun.com/exdb/mnist/t10k-images-idx3-ubyte.gz to ../datasets/MNIST\\raw\\t10k-images-idx3-ubyte.gz\n"
     ]
    },
    {
     "name": "stderr",
     "output_type": "stream",
     "text": [
      "100.4%"
     ]
    },
    {
     "name": "stdout",
     "output_type": "stream",
     "text": [
      "Extracting ../datasets/MNIST\\raw\\t10k-images-idx3-ubyte.gz to ../datasets/MNIST\\raw\n",
      "Downloading http://yann.lecun.com/exdb/mnist/t10k-labels-idx1-ubyte.gz to ../datasets/MNIST\\raw\\t10k-labels-idx1-ubyte.gz\n"
     ]
    },
    {
     "name": "stderr",
     "output_type": "stream",
     "text": [
      "180.4%..\\torch\\csrc\\utils\\tensor_numpy.cpp:141: UserWarning: The given NumPy array is not writeable, and PyTorch does not support non-writeable tensors. This means you can write to the underlying (supposedly non-writeable) NumPy array using the tensor. You may want to copy the array to protect its data or make it writeable before converting it to a tensor. This type of warning will be suppressed for the rest of this program.\n"
     ]
    },
    {
     "name": "stdout",
     "output_type": "stream",
     "text": [
      "Extracting ../datasets/MNIST\\raw\\t10k-labels-idx1-ubyte.gz to ../datasets/MNIST\\raw\n",
      "Processing...\n",
      "Done!\n"
     ]
    }
   ],
   "source": [
    "transforms = transforms.Compose([transforms.ToTensor(),\n",
    "                                 transforms.Normalize((0.5,),(0.5,))])\n",
    "\n",
    "trainset = datasets.MNIST('../datasets/', train=True,transform=transforms, download=True)\n",
    "trainloader = torch.utils.data.DataLoader(trainset, batch_size=64,shuffle=True)"
   ]
  },
  {
   "cell_type": "code",
   "execution_count": 6,
   "metadata": {},
   "outputs": [
    {
     "name": "stdout",
     "output_type": "stream",
     "text": [
      "<class 'torch.Tensor'>\n",
      "torch.Size([64, 1, 28, 28])\n",
      "torch.Size([64])\n"
     ]
    }
   ],
   "source": [
    "dataiter = iter(trainloader)\n",
    "images, labels = dataiter.next()\n",
    "print(type(images))\n",
    "print(images.shape)\n",
    "print(labels.shape)"
   ]
  },
  {
   "cell_type": "code",
   "execution_count": 16,
   "metadata": {},
   "outputs": [
    {
     "data": {
      "image/png": "[encoded data removed]",
      "text/plain": [
       "<Figure size 432x288 with 1 Axes>"
      ]
     },
     "metadata": {
      "image/png": {
       "height": 248,
       "width": 251
      },
      "needs_background": "light"
     },
     "output_type": "display_data"
    }
   ],
   "source": [
    "# .squeeze() removes dimensions of size 1.. eg if shape of a matrix is (1,28,28), then output after squeezing will be (28,28)\n",
    "plt.imshow(images[37].numpy().squeeze(), cmap='Greys_r')\n",
    "plt.show()"
   ]
  },
  {
   "cell_type": "code",
   "execution_count": 21,
   "metadata": {},
   "outputs": [
    {
     "data": {
      "text/plain": [
       "torch.Size([64, 784])"
      ]
     },
     "execution_count": 21,
     "metadata": {},
     "output_type": "execute_result"
    }
   ],
   "source": [
    "images.view(images.shape[0],784).shape"
   ]
  },
  {
   "cell_type": "code",
   "execution_count": 25,
   "metadata": {},
   "outputs": [
    {
     "data": {
      "text/plain": [
       "torch.Size([64, 784])"
      ]
     },
     "execution_count": 25,
     "metadata": {},
     "output_type": "execute_result"
    }
   ],
   "source": [
    "images.view(images.shape[0], -1).shape"
   ]
  },
  {
   "cell_type": "markdown",
   "metadata": {},
   "source": [
    "## Simple Neural Network from scratch"
   ]
  },
  {
   "cell_type": "code",
   "execution_count": 32,
   "metadata": {},
   "outputs": [],
   "source": [
    "def activation(x):\n",
    "    return (1/(1 + torch.exp(-x)))\n",
    "\n",
    "def softmax(x):\n",
    "    # converting the sum to shape of 64 by 1 since\n",
    "    # the torch.sum returns a vector col. with 64 values.\n",
    "    # we have to convert it to a shape of 64 rows with one val. per row in order to divide\n",
    "    return (torch.exp(x)/torch.sum(torch.exp(x),dim=1).view(-1,1))\n",
    "\n",
    "inputs = images.view(images.shape[0], -1)\n",
    "\n",
    "n_inputs = inputs.shape[1]\n",
    "n_hidden = 256\n",
    "n_outputs = 10\n",
    "\n",
    "W1 = torch.randn(n_inputs,n_hidden)\n",
    "W2 = torch.randn(n_hidden,n_outputs)\n",
    "\n",
    "B1 = torch.randn(n_hidden)\n",
    "B2 = torch.randn(n_outputs)\n",
    "\n",
    "y_hidden = activation(torch.mm(inputs, W1) + B1)\n",
    "y_output = softmax(torch.mm(y_hidden, W2) + B2)"
   ]
  },
  {
   "cell_type": "code",
   "execution_count": 33,
   "metadata": {},
   "outputs": [
    {
     "name": "stdout",
     "output_type": "stream",
     "text": [
      "torch.Size([64, 256])\n",
      "torch.float32\n"
     ]
    }
   ],
   "source": [
    "print(y_hidden.shape)\n",
    "print(y_hidden.dtype)"
   ]
  },
  {
   "cell_type": "code",
   "execution_count": 34,
   "metadata": {},
   "outputs": [
    {
     "data": {
      "text/plain": [
       "tensor([[8.2410e-11, 4.5492e-17, 9.5295e-17, 4.5755e-08, 1.4235e-14, 2.7243e-07,\n",
       "         2.7023e-13, 1.4242e-24, 6.9214e-22, 1.0000e+00],\n",
       "        [4.0257e-12, 8.9219e-23, 1.3759e-19, 3.3964e-06, 6.5470e-17, 7.1765e-12,\n",
       "         1.5763e-12, 1.3024e-18, 2.1452e-13, 1.0000e+00],\n",
       "        [2.3465e-09, 2.4529e-17, 3.7697e-12, 7.7249e-07, 1.9176e-16, 3.4161e-14,\n",
       "         2.0236e-13, 7.9580e-24, 7.5195e-18, 1.0000e+00],\n",
       "        [7.6532e-13, 5.8329e-22, 4.0097e-19, 1.7767e-08, 3.3781e-16, 2.2086e-11,\n",
       "         2.4400e-17, 6.7751e-22, 3.9118e-15, 1.0000e+00],\n",
       "        [1.2375e-08, 1.5946e-20, 3.2931e-15, 2.7392e-06, 4.3223e-12, 1.5381e-14,\n",
       "         3.9818e-10, 2.2297e-17, 9.3516e-16, 1.0000e+00]])"
      ]
     },
     "execution_count": 34,
     "metadata": {},
     "output_type": "execute_result"
    }
   ],
   "source": [
    "y_output[:5]"
   ]
  },
  {
   "cell_type": "code",
   "execution_count": 35,
   "metadata": {},
   "outputs": [
    {
     "data": {
      "text/plain": [
       "tensor([[-0.5662,  1.0968, -1.1065,  ..., -1.1310, -0.0120, -0.8032],\n",
       "        [ 0.0660, -1.1750,  1.4117,  ...,  0.3493,  0.8629,  0.4959],\n",
       "        [ 0.7433, -0.5743, -1.3336,  ..., -1.0239,  0.7439, -1.2022],\n",
       "        [ 0.8195,  2.1449, -1.3028,  ...,  1.6202, -1.2592, -0.0570],\n",
       "        [ 1.1579,  2.0316, -1.4446,  ..., -0.4407, -1.6905,  0.0034]])"
      ]
     },
     "execution_count": 35,
     "metadata": {},
     "output_type": "execute_result"
    }
   ],
   "source": [
    "W1[:5]"
   ]
  },
  {
   "cell_type": "code",
   "execution_count": 36,
   "metadata": {},
   "outputs": [
    {
     "name": "stdout",
     "output_type": "stream",
     "text": [
      "tensor([1.0000, 1.0000, 1.0000, 1.0000, 1.0000, 1.0000, 1.0000, 1.0000, 1.0000,\n",
      "        1.0000, 1.0000, 1.0000, 1.0000, 1.0000, 1.0000, 1.0000, 1.0000, 1.0000,\n",
      "        1.0000, 1.0000, 1.0000, 1.0000, 1.0000, 1.0000, 1.0000, 1.0000, 1.0000,\n",
      "        1.0000, 1.0000, 1.0000, 1.0000, 1.0000, 1.0000, 1.0000, 1.0000, 1.0000,\n",
      "        1.0000, 1.0000, 1.0000, 1.0000, 1.0000, 1.0000, 1.0000, 1.0000, 1.0000,\n",
      "        1.0000, 1.0000, 1.0000, 1.0000, 1.0000, 1.0000, 1.0000, 1.0000, 1.0000,\n",
      "        1.0000, 1.0000, 1.0000, 1.0000, 1.0000, 1.0000, 1.0000, 1.0000, 1.0000,\n",
      "        1.0000])\n"
     ]
    }
   ],
   "source": [
    "print(y_output.sum(dim=1))"
   ]
  },
  {
   "cell_type": "code",
   "execution_count": null,
   "metadata": {},
   "outputs": [],
   "source": []
  }
 ],
 "metadata": {
  "kernelspec": {
   "display_name": "pytorch",
   "language": "python",
   "name": "pytorch"
  },
  "language_info": {
   "codemirror_mode": {
    "name": "ipython",
    "version": 3
   },
   "file_extension": ".py",
   "mimetype": "text/x-python",
   "name": "python",
   "nbconvert_exporter": "python",
   "pygments_lexer": "ipython3",
   "version": "3.8.3"
  }
 },
 "nbformat": 4,
 "nbformat_minor": 4
}
